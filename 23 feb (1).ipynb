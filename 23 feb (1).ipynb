{
 "cells": [
  {
   "cell_type": "markdown",
   "id": "7b15290f-24ee-450d-8e91-8408b18608d0",
   "metadata": {},
   "source": [
    "Q1. Create a Pandas Series that contains the following data: 4, 8, 15, 16, 23, and 42. Then, print the series."
   ]
  },
  {
   "cell_type": "code",
   "execution_count": 3,
   "id": "e248710c-d68f-40c8-ba05-9dcec7d01bb4",
   "metadata": {},
   "outputs": [],
   "source": [
    "import pandas as pd\n",
    "data = [4, 8, 15, 16, 23,42]\n",
    "s = pd.Series(data)"
   ]
  },
  {
   "cell_type": "code",
   "execution_count": 7,
   "id": "446723a4-0e9a-476e-9751-4b59ba4e3ba8",
   "metadata": {},
   "outputs": [
    {
     "data": {
      "text/plain": [
       "0     4\n",
       "1     8\n",
       "2    15\n",
       "3    16\n",
       "4    23\n",
       "5    42\n",
       "dtype: int64"
      ]
     },
     "execution_count": 7,
     "metadata": {},
     "output_type": "execute_result"
    }
   ],
   "source": [
    "s  # displaying the series"
   ]
  },
  {
   "cell_type": "code",
   "execution_count": 5,
   "id": "befb23bc-27a9-4c0e-837e-e11e3d5e4128",
   "metadata": {},
   "outputs": [
    {
     "data": {
      "text/plain": [
       "pandas.core.series.Series"
      ]
     },
     "execution_count": 5,
     "metadata": {},
     "output_type": "execute_result"
    }
   ],
   "source": [
    "type(s)"
   ]
  },
  {
   "cell_type": "code",
   "execution_count": null,
   "id": "266d8ba0-3fa8-40c8-8b28-2b7735f5cccd",
   "metadata": {},
   "outputs": [],
   "source": []
  },
  {
   "cell_type": "markdown",
   "id": "abaa84af-ab4f-4f3a-a74e-a0dd792f6289",
   "metadata": {},
   "source": [
    "Q2. Create a variable of list type containing 10 elements in it, and apply pandas. Series function on the variable print it."
   ]
  },
  {
   "cell_type": "code",
   "execution_count": 8,
   "id": "d0eedfd3-7a96-4fba-9765-cc7fc1fd8fe1",
   "metadata": {},
   "outputs": [
    {
     "name": "stdout",
     "output_type": "stream",
     "text": [
      "0     1\n",
      "1     2\n",
      "2     3\n",
      "3     4\n",
      "4     5\n",
      "5     6\n",
      "6     7\n",
      "7     8\n",
      "8     9\n",
      "9    10\n",
      "dtype: int64\n"
     ]
    }
   ],
   "source": [
    "my_list = [1, 2, 3, 4, 5, 6, 7, 8, 9, 10]\n",
    "my_series = pd.Series(my_list)\n",
    "print(my_series)\n"
   ]
  },
  {
   "cell_type": "code",
   "execution_count": null,
   "id": "f7dc0388-62e7-4192-ad36-02fa1146dc02",
   "metadata": {},
   "outputs": [],
   "source": []
  },
  {
   "cell_type": "markdown",
   "id": "97f7a41b-ae0f-4ee7-bc3f-754701918d87",
   "metadata": {},
   "source": [
    "Q3. Create a Pandas DataFrame that contains the following data:"
   ]
  },
  {
   "cell_type": "code",
   "execution_count": 16,
   "id": "1dd935ca-2b52-4d72-b38b-798017b120ea",
   "metadata": {},
   "outputs": [],
   "source": [
    "data = { \"Name\": ['Alice', 'Bob', 'Claire'],\n",
    "         \"Age\": [25,30,27] ,\n",
    "          \"Gender\": ['Female', 'Male', 'Female']}\n",
    "df = pd.DataFrame(data)"
   ]
  },
  {
   "cell_type": "code",
   "execution_count": 18,
   "id": "2ad2ce6f-9499-4454-ac61-1f808b2ffe27",
   "metadata": {},
   "outputs": [
    {
     "data": {
      "text/html": [
       "<div>\n",
       "<style scoped>\n",
       "    .dataframe tbody tr th:only-of-type {\n",
       "        vertical-align: middle;\n",
       "    }\n",
       "\n",
       "    .dataframe tbody tr th {\n",
       "        vertical-align: top;\n",
       "    }\n",
       "\n",
       "    .dataframe thead th {\n",
       "        text-align: right;\n",
       "    }\n",
       "</style>\n",
       "<table border=\"1\" class=\"dataframe\">\n",
       "  <thead>\n",
       "    <tr style=\"text-align: right;\">\n",
       "      <th></th>\n",
       "      <th>Name</th>\n",
       "      <th>Age</th>\n",
       "      <th>Gender</th>\n",
       "    </tr>\n",
       "  </thead>\n",
       "  <tbody>\n",
       "    <tr>\n",
       "      <th>0</th>\n",
       "      <td>Alice</td>\n",
       "      <td>25</td>\n",
       "      <td>Female</td>\n",
       "    </tr>\n",
       "    <tr>\n",
       "      <th>1</th>\n",
       "      <td>Bob</td>\n",
       "      <td>30</td>\n",
       "      <td>Male</td>\n",
       "    </tr>\n",
       "    <tr>\n",
       "      <th>2</th>\n",
       "      <td>Claire</td>\n",
       "      <td>27</td>\n",
       "      <td>Female</td>\n",
       "    </tr>\n",
       "  </tbody>\n",
       "</table>\n",
       "</div>"
      ],
      "text/plain": [
       "     Name  Age  Gender\n",
       "0   Alice   25  Female\n",
       "1     Bob   30    Male\n",
       "2  Claire   27  Female"
      ]
     },
     "execution_count": 18,
     "metadata": {},
     "output_type": "execute_result"
    }
   ],
   "source": [
    "df  #  displaying the df"
   ]
  },
  {
   "cell_type": "code",
   "execution_count": null,
   "id": "5dc3e712-42bd-4fcd-a8c8-e1cd822cab73",
   "metadata": {},
   "outputs": [],
   "source": []
  },
  {
   "cell_type": "markdown",
   "id": "90f8a25f-2d51-49c5-b684-dce8708d2550",
   "metadata": {},
   "source": [
    "Q4. What is ‘DataFrame’ in pandas and how is it different from pandas.series? Explain with an example.\n",
    "\n",
    "Answer--> Series is a one-dimensional labeled array capable of holding any data type. A Series can be created from a list, numpy array, or dictionary.\n",
    "\n",
    "DataFrame in pandas is a 2-dimensional labeled data structure with columns of potentially different types. It is similar to a spreadsheet or a SQL table. A DataFrame can be created by passing a dictionary of lists, numpy arrays, or Pandas series.\n",
    "\n",
    "The key difference between DataFrame and Series is that a Series represents a single column of data, while a DataFrame represents a collection of columns with labels."
   ]
  },
  {
   "cell_type": "code",
   "execution_count": 23,
   "id": "7f34bc53-a7e7-42fb-a380-e1468b4c43f7",
   "metadata": {},
   "outputs": [
    {
     "name": "stdout",
     "output_type": "stream",
     "text": [
      "Series is \n",
      "\n",
      "apple     10\n",
      "banana     5\n",
      "orange    20\n",
      "kiwi      15\n",
      "dtype: int64\n",
      "\n",
      "\n",
      "DataFrame is \n",
      "\n",
      "    fruit  count  price\n",
      "0   apple     10   2.99\n",
      "1  banana      5   0.99\n",
      "2  orange     20   1.50\n",
      "3    kiwi     15   3.25\n"
     ]
    }
   ],
   "source": [
    "import pandas as pd\n",
    "\n",
    "# Creating a pandas series\n",
    "fruit_count = pd.Series([10, 5, 20, 15], index=['apple', 'banana', 'orange', 'kiwi'])\n",
    "print(\"Series is \\n\")\n",
    "print(fruit_count)\n",
    "print(\"\\n\")\n",
    "\n",
    "# Creating a pandas dataframe\n",
    "fruit_sales = pd.DataFrame({\n",
    "    'fruit': ['apple', 'banana', 'orange', 'kiwi'],\n",
    "    'count': [10, 5, 20, 15],\n",
    "    'price': [2.99, 0.99, 1.50, 3.25]\n",
    "})\n",
    "print(\"DataFrame is \\n\")\n",
    "print(fruit_sales)"
   ]
  },
  {
   "cell_type": "code",
   "execution_count": null,
   "id": "54bbdb86-8611-4803-8ff4-5df2a1617442",
   "metadata": {},
   "outputs": [],
   "source": []
  },
  {
   "cell_type": "markdown",
   "id": "568a1afa-890e-49dd-a37c-76aa46cc564d",
   "metadata": {},
   "source": [
    "Q5. What are some common functions you can use to manipulate data in a Pandas DataFrame? Can you give an example of when you might use one of these functions?\n",
    "\n",
    "Answer--> Pandas provides a rich set of functions for manipulating data in a DataFrame. Here are some of the most common functions:\n",
    "\n",
    "1 head() and tail()\n",
    "\n",
    "2 describe()\n",
    "\n",
    "3 max(), min()\n",
    "\n",
    "4 sort_values()\n",
    "\n",
    "5 drop()\n",
    "\n",
    "6 fillna()\n",
    "\n",
    "1 head() and tail()--> if our dataframe containes a number of datarow then its very deficult to watch all the rows a one so there we use it . These functions are used to view the top and bottom rows of a DataFrame"
   ]
  },
  {
   "cell_type": "code",
   "execution_count": 30,
   "id": "a6ea9af7-1174-4536-904d-22efd1e6e984",
   "metadata": {},
   "outputs": [
    {
     "data": {
      "text/html": [
       "<div>\n",
       "<style scoped>\n",
       "    .dataframe tbody tr th:only-of-type {\n",
       "        vertical-align: middle;\n",
       "    }\n",
       "\n",
       "    .dataframe tbody tr th {\n",
       "        vertical-align: top;\n",
       "    }\n",
       "\n",
       "    .dataframe thead th {\n",
       "        text-align: right;\n",
       "    }\n",
       "</style>\n",
       "<table border=\"1\" class=\"dataframe\">\n",
       "  <thead>\n",
       "    <tr style=\"text-align: right;\">\n",
       "      <th></th>\n",
       "      <th>fruit</th>\n",
       "      <th>count</th>\n",
       "      <th>price</th>\n",
       "    </tr>\n",
       "  </thead>\n",
       "  <tbody>\n",
       "    <tr>\n",
       "      <th>0</th>\n",
       "      <td>apple</td>\n",
       "      <td>10</td>\n",
       "      <td>2.99</td>\n",
       "    </tr>\n",
       "    <tr>\n",
       "      <th>1</th>\n",
       "      <td>banana</td>\n",
       "      <td>5</td>\n",
       "      <td>0.99</td>\n",
       "    </tr>\n",
       "    <tr>\n",
       "      <th>2</th>\n",
       "      <td>orange</td>\n",
       "      <td>20</td>\n",
       "      <td>1.50</td>\n",
       "    </tr>\n",
       "  </tbody>\n",
       "</table>\n",
       "</div>"
      ],
      "text/plain": [
       "    fruit  count  price\n",
       "0   apple     10   2.99\n",
       "1  banana      5   0.99\n",
       "2  orange     20   1.50"
      ]
     },
     "execution_count": 30,
     "metadata": {},
     "output_type": "execute_result"
    }
   ],
   "source": [
    "fruit_sales.head(3) # here we can see top 3 rows with the help of  .head(3)"
   ]
  },
  {
   "cell_type": "code",
   "execution_count": null,
   "id": "157f4e87-cabd-474e-84eb-63fa5f5f71b5",
   "metadata": {},
   "outputs": [],
   "source": []
  },
  {
   "cell_type": "markdown",
   "id": "f1c98995-5752-415e-90b5-01a620d730da",
   "metadata": {},
   "source": [
    "Q6. Which of the following is mutable in nature Series, DataFrame, Panel?\n",
    "\n",
    "Answer--> Series and DataFrame are mutable in nature, while Panel is immutable.\n",
    "\n",
    "In pandas, a mutable object can be modified after creation, whereas an immutable object cannot be modified after creation. A Series is a one-dimensional labeled array that can hold any data type, while a DataFrame is a two-dimensional labeled data structure with columns of potentially different data types. Both Series and DataFrame can be modified by adding, deleting, or updating elements or columns. \n",
    "\n",
    "On the other hand, a Panel is a three-dimensional labeled data structure that can hold any data type, but it cannot be modified after creation. Instead, a new Panel object needs to be created to make any changes to the original data."
   ]
  },
  {
   "cell_type": "code",
   "execution_count": null,
   "id": "b86d4b97-e2a8-4779-ae29-20e3736fdb67",
   "metadata": {},
   "outputs": [],
   "source": []
  },
  {
   "cell_type": "markdown",
   "id": "685800d3-224c-48b0-886c-c54a2a31f609",
   "metadata": {},
   "source": [
    "Q7. Create a DataFrame using multiple Series. Explain with an example."
   ]
  },
  {
   "cell_type": "code",
   "execution_count": 31,
   "id": "ce862921-07ef-4f1e-b67a-9d538dfcfb2a",
   "metadata": {},
   "outputs": [
    {
     "name": "stdout",
     "output_type": "stream",
     "text": [
      "   col1 col2  col3\n",
      "0     1    a   0.1\n",
      "1     2    b   0.2\n",
      "2     3    c   0.3\n",
      "3     4    d   0.4\n"
     ]
    }
   ],
   "source": [
    "# create three Series objects\n",
    "s1 = pd.Series([1, 2, 3, 4])\n",
    "s2 = pd.Series(['a', 'b', 'c', 'd'])\n",
    "s3 = pd.Series([0.1, 0.2, 0.3, 0.4])\n",
    "\n",
    "# create a dictionary of Series\n",
    "data = {'col1': s1, 'col2': s2, 'col3': s3}\n",
    "\n",
    "# create a DataFrame from the dictionary\n",
    "df = pd.DataFrame(data)\n",
    "\n",
    "# print the DataFrame\n",
    "print(df)\n"
   ]
  },
  {
   "cell_type": "code",
   "execution_count": null,
   "id": "f032a9ef-40a8-49b2-8c46-3b7d74972724",
   "metadata": {},
   "outputs": [],
   "source": []
  }
 ],
 "metadata": {
  "kernelspec": {
   "display_name": "Python 3 (ipykernel)",
   "language": "python",
   "name": "python3"
  },
  "language_info": {
   "codemirror_mode": {
    "name": "ipython",
    "version": 3
   },
   "file_extension": ".py",
   "mimetype": "text/x-python",
   "name": "python",
   "nbconvert_exporter": "python",
   "pygments_lexer": "ipython3",
   "version": "3.10.8"
  }
 },
 "nbformat": 4,
 "nbformat_minor": 5
}
